{
  "nbformat": 4,
  "nbformat_minor": 0,
  "metadata": {
    "colab": {
      "name": "see_your_cells_출력할 내용.ipynb",
      "provenance": [],
      "collapsed_sections": [],
      "toc_visible": true
    },
    "kernelspec": {
      "name": "python3",
      "display_name": "Python 3"
    }
  },
  "cells": [
    {
      "cell_type": "code",
      "metadata": {
        "id": "06pVqdY8jB4B",
        "outputId": "e7231cef-db1f-4c9e-ab6f-1e961a91735d",
        "colab": {
          "base_uri": "https://localhost:8080/",
          "height": 35
        }
      },
      "source": [
        "%tensorflow_version 1.x"
      ],
      "execution_count": 7,
      "outputs": [
        {
          "output_type": "stream",
          "text": [
            "TensorFlow 1.x selected.\n"
          ],
          "name": "stdout"
        }
      ]
    },
    {
      "cell_type": "code",
      "metadata": {
        "id": "CVveTYPOjGi2"
      },
      "source": [
        "import math\n",
        "import numpy as np\n",
        "import pandas as pd"
      ],
      "execution_count": 8,
      "outputs": []
    },
    {
      "cell_type": "markdown",
      "metadata": {
        "id": "wM1Aers4Cn0D"
      },
      "source": [
        "#이미지 기반 세포수 환산\n",
        "40x 이미지에서 얻은 세포수를 전체 배양접시 내 세포수로 환산\n",
        "\n",
        "###40x image에서 얻은 Class A, B, C의 세포 수를 각각 다음의 변수에 할당함  \n",
        "\n",
        "x40Na   \n",
        "x40Nb   \n",
        "x40Nc   \n",
        "\n",
        "###100 mm dish를 기준으로 표시된 세포 수는 다음과 같음\n",
        "\n",
        "NA = 2055.957 * 40xNa   \n",
        "NB = 2055.957 * 40xNb   \n",
        "NC = 2055.957 * 40xNc   "
      ]
    },
    {
      "cell_type": "code",
      "metadata": {
        "id": "3PW8AIRBjI5_",
        "outputId": "deeba27a-8daa-4861-b431-de61814768ba",
        "colab": {
          "base_uri": "https://localhost:8080/",
          "height": 35
        }
      },
      "source": [
        "#얻은 세포 수 (아래의 세포 수는 영상인식 후 얻은 각 클래스에 해당하는 세포 수를 받아 할당)\n",
        "x40Na = 107\n",
        "x40Nb = 4\n",
        "x40Nc = 8\n",
        "\n",
        "#100 mm dish를 기준으로 세포 수 환산\n",
        "\n",
        "NA = 2055.957 * x40Na   \n",
        "NB = 2055.957 * x40Nb   \n",
        "NC = 2055.957 * x40Nc   \n",
        "\n",
        "print(NA, NB, NC)"
      ],
      "execution_count": 9,
      "outputs": [
        {
          "output_type": "stream",
          "text": [
            "219987.39899999998 8223.828 16447.656\n"
          ],
          "name": "stdout"
        }
      ]
    },
    {
      "cell_type": "markdown",
      "metadata": {
        "id": "fRctRd5rkSSH"
      },
      "source": [
        "#노화세포%"
      ]
    },
    {
      "cell_type": "code",
      "metadata": {
        "id": "l1QUYA1BkNwN",
        "outputId": "c0f612ff-1668-404e-eaba-6189b8a2be0f",
        "colab": {
          "base_uri": "https://localhost:8080/",
          "height": 35
        }
      },
      "source": [
        "# x40 image에서 얻은 노화 세포% = aged_cell%_x40\n",
        "\n",
        "aged_cell_ratio = 100*((2.65809*NB)+(1.30859*NC))/((3.77126*NA)+(2.65809*NB)+(1.30859*NC))\n",
        "\n",
        "aged_cell_ratio"
      ],
      "execution_count": 10,
      "outputs": [
        {
          "output_type": "execute_result",
          "data": {
            "text/plain": [
              "4.969334183336438"
            ]
          },
          "metadata": {
            "tags": []
          },
          "execution_count": 10
        }
      ]
    },
    {
      "cell_type": "markdown",
      "metadata": {
        "id": "SzaZrGm2uWNV"
      },
      "source": [
        "#계대 시점 도달 예상 소요시간"
      ]
    },
    {
      "cell_type": "code",
      "metadata": {
        "id": "E3okgZpyez7-"
      },
      "source": [
        "#days_to_passage = ((NC/(NA+NB+NC))-0.3142)/0.037\n",
        "#days_to_passage\n",
        "#실험값에 fitting 된 식은 위와 같으나, C%가 극히 낮으면 음수가 출력되는 에러가 생김\n",
        "#C%의 범위에 따라 조건적인 계산식 수립 필요"
      ],
      "execution_count": 11,
      "outputs": []
    },
    {
      "cell_type": "code",
      "metadata": {
        "id": "jsBn6sl0ua2U",
        "outputId": "9e765f42-6df6-4237-be1d-06774601b39f",
        "colab": {
          "base_uri": "https://localhost:8080/",
          "height": 208
        }
      },
      "source": [
        "#C% 조건에 따른 기간 산정방법 달리하여 조건문 이용해 값 할당해서 출력\n",
        "#아래 코드 수정 필요\n",
        "def expected_duration():\n",
        "      if (NC/(NA+NB+NC)) > 0.3142: \n",
        "         days_to_passage = ((NC/(NA+NB+NC))-0.3142)/0.037\n",
        "      elif (NC/(NA+NB+NC)) <= 0.3142:\n",
        "         days_to_passage = 1460/((3.77126*x40Na)+(2.65809*x40Nb))\n",
        "      return days_to_passage\n",
        "\n",
        "print(\"예상 계대 시점:\", days_to_passage)"
      ],
      "execution_count": 17,
      "outputs": [
        {
          "output_type": "error",
          "ename": "NameError",
          "evalue": "ignored",
          "traceback": [
            "\u001b[0;31m---------------------------------------------------------------------------\u001b[0m",
            "\u001b[0;31mNameError\u001b[0m                                 Traceback (most recent call last)",
            "\u001b[0;32m<ipython-input-17-c5bb679a7b34>\u001b[0m in \u001b[0;36m<module>\u001b[0;34m()\u001b[0m\n\u001b[1;32m      8\u001b[0m       \u001b[0;32mreturn\u001b[0m \u001b[0mdays_to_passage\u001b[0m\u001b[0;34m\u001b[0m\u001b[0;34m\u001b[0m\u001b[0m\n\u001b[1;32m      9\u001b[0m \u001b[0;34m\u001b[0m\u001b[0m\n\u001b[0;32m---> 10\u001b[0;31m \u001b[0mprint\u001b[0m\u001b[0;34m(\u001b[0m\u001b[0;34m\"예상 계대 시점:\"\u001b[0m\u001b[0;34m,\u001b[0m \u001b[0mdays_to_passage\u001b[0m\u001b[0;34m)\u001b[0m\u001b[0;34m\u001b[0m\u001b[0;34m\u001b[0m\u001b[0m\n\u001b[0m",
            "\u001b[0;31mNameError\u001b[0m: name 'days_to_passage' is not defined"
          ]
        }
      ]
    },
    {
      "cell_type": "markdown",
      "metadata": {
        "id": "zqaXLGHT3YGt"
      },
      "source": [
        "x40 Image에서 full confluence에 도달했을 때 이미지 내 세포수: 1460개 (polygonal cell 기준)\n"
      ]
    },
    {
      "cell_type": "markdown",
      "metadata": {
        "id": "sY-GV7-acqBz"
      },
      "source": [
        "#예상 세포 수율\n"
      ]
    },
    {
      "cell_type": "code",
      "metadata": {
        "id": "LBsOFBqdcpKD",
        "outputId": "b5a6f002-96e8-4f2d-fff4-12e9242a4866",
        "colab": {
          "base_uri": "https://localhost:8080/",
          "height": 35
        }
      },
      "source": [
        "expected_cell_yield = 13.6541*NA + 6.31198*NB - 2.477*NC\n",
        "print(expected_cell_yield)"
      ],
      "execution_count": 31,
      "outputs": [
        {
          "output_type": "stream",
          "text": [
            "3014897.7386333398\n"
          ],
          "name": "stdout"
        }
      ]
    },
    {
      "cell_type": "markdown",
      "metadata": {
        "id": "dQhUjqhIfZ_t"
      },
      "source": [
        "#세포 활성 등급"
      ]
    },
    {
      "cell_type": "code",
      "metadata": {
        "id": "IuXWzLYXfc3S",
        "outputId": "9b80570e-93d0-4ef0-b5f9-791aa0d5d6a7",
        "colab": {
          "base_uri": "https://localhost:8080/",
          "height": 35
        }
      },
      "source": [
        "def activity_grade():\n",
        "\n",
        "   activity_value = NA/(NB+NC)\n",
        "\n",
        "   if actiity_value >= 0.8:\n",
        "     culture_grade = Grade_A\n",
        "     print(\"Culture grade: Grade A\")\n",
        "\n",
        "   elif activity_value >= 0.6:\n",
        "     culture_grade = B\n",
        "     print(\"Culture grade: Grade B\")\n",
        "\n",
        "   elif activity_value >= 0.4:\n",
        "     culture_grade = C\n",
        "     print(\"Culture grade: Grade C\")\n",
        "\n",
        "   elif activity_value >= 0.2:\n",
        "     culture_grade = D\n",
        "     print(\"Culture grade: Grade D\")\n",
        "\n",
        "   elif activity_value < 0.2:\n",
        "     culture_grade = E\n",
        "     print(\"Culture grade: Grade E\")\n",
        "\n",
        "activity_grade\n"
      ],
      "execution_count": 34,
      "outputs": [
        {
          "output_type": "execute_result",
          "data": {
            "text/plain": [
              "<function __main__.activity_grade>"
            ]
          },
          "metadata": {
            "tags": []
          },
          "execution_count": 34
        }
      ]
    }
  ]
}