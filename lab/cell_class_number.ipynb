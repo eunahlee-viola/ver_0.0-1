{
  "nbformat": 4,
  "nbformat_minor": 0,
  "metadata": {
    "colab": {
      "name": "cell_class_number_(1) (2).ipynb",
      "provenance": [],
      "collapsed_sections": [],
      "toc_visible": true
    },
    "kernelspec": {
      "name": "python3",
      "display_name": "Python 3"
    }
  },
  "cells": [
    {
      "cell_type": "markdown",
      "metadata": {
        "id": "wM1Aers4Cn0D"
      },
      "source": [
        "#Evaluatin of cell growth tendency according to cell morphology  \n",
        "\n",
        "A: number of cells in Class \"polygonal\"  \n",
        "B: number of cells in Class \"small\"  \n",
        "C: number of cells in Class \"spread\"  \n",
        "(Disregard the other classes)"
      ]
    },
    {
      "cell_type": "code",
      "metadata": {
        "id": "79_Uo1XNxrs-"
      },
      "source": [
        "%tensorflow_version 1.x"
      ],
      "execution_count": null,
      "outputs": []
    },
    {
      "cell_type": "code",
      "metadata": {
        "id": "FFw7JPmwxx7U"
      },
      "source": [
        "import math\n",
        "import numpy as np\n",
        "import pandas as pd"
      ],
      "execution_count": 1,
      "outputs": []
    },
    {
      "cell_type": "markdown",
      "metadata": {
        "id": "63_Ql3kDJ8yj"
      },
      "source": [
        "###Mathmatical model for cell expansion by in vitro culture  \n",
        "A: Number of initial cell seeding  \n",
        "D: Cell yield at passage\n",
        "\n",
        "A * 2**x = D\n",
        "\n",
        "<b>Polygonal cell만 있다고 가정할 때</b>  \n",
        "\n",
        "<i> Cell body가 큰 경우 (species-dependent trait-hMSCs or rabbitMSCs)</i>  \n",
        "A = 5 * 10^5   \n",
        "D = 2 * 10^6  \n",
        "x = 2\n",
        "\n",
        "<i>Cell body가 작은경우 (mouse MSCs?)</i>  \n",
        "A = 5 * 10^5   \n",
        "D = 4 * 10^6  \n",
        "x = 3\n",
        "\n",
        "\n",
        "<b>3가지 형태의 cell이 섞여있다고 가정할 때</b>  \n",
        "\n",
        "A: ratio of polygonal cells (less than 16 hr after seeding)  \n",
        "B: ratio of small cells  \n",
        "C: ratio of spread cells  \n",
        "D: Cell yield at passage  \n",
        "T: Days needed to reach confluence  \n",
        "\n",
        "X: 2^x  \n",
        "Y: 2^y  \n",
        "Z: 2^z  \n",
        "\n",
        "A*X + B*Y + C*Z = D\n",
        "\n"
      ]
    },
    {
      "cell_type": "markdown",
      "metadata": {
        "id": "NfrMX_Sht0Lr"
      },
      "source": [
        "#배양기간 고려하지 않고 Cell yield로만 계산하면\n",
        "(When D was not normalized by T)\n",
        "\n",
        "**Cell yield = (a*X) + (b*Y) + (c*Z)**  \n"
      ]
    },
    {
      "cell_type": "code",
      "metadata": {
        "id": "GW2o0cfLuodY",
        "outputId": "59c90838-2340-49fd-a539-31febc71c8b5",
        "colab": {
          "base_uri": "https://localhost:8080/",
          "height": 123
        }
      },
      "source": [
        "X=16.97\n",
        "Y=8.76\n",
        "Z=1.42\n",
        "print(\"x는 \", math.log(X, 2), \"입니다\")\n",
        "print(\"y는 \", math.log(Y, 2), \"입니다\")\n",
        "print(\"z는 \", math.log(Z, 2), \"입니다\")\n",
        "print(\"2**x =\",2**math.log(X, 2))\n",
        "print(\"2**y =\",2**math.log(Y, 2))\n",
        "print(\"2**z =\",2**math.log(Z, 2))\n"
      ],
      "execution_count": 2,
      "outputs": [
        {
          "output_type": "stream",
          "text": [
            "x는  4.084914659767938 입니다\n",
            "y는  3.130930869826449 입니다\n",
            "z는  0.5058909297299573 입니다\n",
            "2**x = 16.97\n",
            "2**y = 8.760000000000002\n",
            "2**z = 1.42\n"
          ],
          "name": "stdout"
        }
      ]
    },
    {
      "cell_type": "code",
      "metadata": {
        "id": "i_CS7J_WyB94"
      },
      "source": [
        "# Class 별 세포분열 경향 \n",
        "# X=2**x\n",
        "# Y=2**y\n",
        "# Z=2**z\n",
        "\n",
        "# Cell yield = (a*X) + (b*Y) + (c*Z)\n",
        "# a: number of cells in Class \"polygonal\"\n",
        "# b: number of cells in Class \"small\"\n",
        "# c: number of cells in Class \"spread\"\n",
        "# Disregard the other classes\n",
        "\n",
        "x=4.0849\n",
        "y=3.1309\n",
        "z=0.5058\n"
      ],
      "execution_count": null,
      "outputs": []
    },
    {
      "cell_type": "markdown",
      "metadata": {
        "id": "_wu_ZFKQuE8C"
      },
      "source": [
        "#Cell growth rate로 계산하면\n",
        "(When D was normalized by T)  \n",
        "Growth rate = (cell yield)/time  \n",
        "\n",
        "**Cell yield/Time(days) = (a*X) + (b*Y) + (c*Z)**  \n",
        "a: number of cells in Class \"polygonal\"  \n",
        "b: number of cells in Class \"small\"  \n",
        "c: number of cells in Class \"spread\"  \n",
        "(Disregard the other classes)\n",
        "\n"
      ]
    },
    {
      "cell_type": "code",
      "metadata": {
        "id": "Yb5cNcJcuE8D",
        "outputId": "fccf95d9-789c-4520-d946-dffe4f5477a7",
        "colab": {
          "base_uri": "https://localhost:8080/",
          "height": 123
        }
      },
      "source": [
        "X=7.95\n",
        "Y=3.88\n",
        "Z=3.09 #실제로 Z값은 단순 방정식으로 풀었기 때문에-3.09이나, 지수방정식을 풀기 위해 음수를 없애줌. 나중에 -2^z로 적용\n",
        "print(\"x는 \", math.log(X, 2), \"입니다\")\n",
        "print(\"y는 \", math.log(Y, 2), \"입니다\")\n",
        "print(\"z는 \", math.log(Z, 2), \"입니다\")\n",
        "print(\"2**x =\",2**math.log(X, 2))\n",
        "print(\"2**y =\",2**math.log(Y, 2))\n",
        "print(\"2**z =\",2**math.log(Z, 2))\n"
      ],
      "execution_count": 3,
      "outputs": [
        {
          "output_type": "stream",
          "text": [
            "x는  2.990954860396993 입니다\n",
            "y는  1.956056652412403 입니다\n",
            "z는  1.6276068381296498 입니다\n",
            "2**x = 7.95\n",
            "2**y = 3.88\n",
            "2**z = 3.09\n"
          ],
          "name": "stdout"
        }
      ]
    },
    {
      "cell_type": "code",
      "metadata": {
        "id": "hTnfO3YKuE8H"
      },
      "source": [
        "# Class 별 세포분열 경향 \n",
        "# X=2**x \n",
        "# Y=2**y \n",
        "# Z=2**z \n",
        "\n",
        "# d/T = (a*X) + (b*Y) + (c*Z)\n",
        "# a: number of cells in Class \"polygonal\"\n",
        "# b: number of cells in Class \"small\"\n",
        "# c: number of cells in Class \"spread\"\n",
        "# d/T: cell yield per day\n",
        "\n",
        "x=2.99\n",
        "y=1.96\n",
        "z=1.63\n"
      ],
      "execution_count": null,
      "outputs": []
    },
    {
      "cell_type": "markdown",
      "metadata": {
        "id": "RCGrsjCBFZ-6"
      },
      "source": [
        "#Passage 별 data에 검산\n",
        "<b> 예측 simulation</b>\n",
        "- Passage 별 cell yield\n",
        "- Confluence에 도달하는데 걸리는 시간\n",
        "- 다음 passage의 quality\n"
      ]
    },
    {
      "cell_type": "markdown",
      "metadata": {
        "id": "DXZZmiLqF8_U"
      },
      "source": [
        ""
      ]
    },
    {
      "cell_type": "code",
      "metadata": {
        "id": "79qEZlg7Thmr"
      },
      "source": [
        ""
      ],
      "execution_count": null,
      "outputs": []
    },
    {
      "cell_type": "markdown",
      "metadata": {
        "id": "WAxTnDB6Ts7S"
      },
      "source": [
        "#Passage 경과에 따른 PDT 변화 요인 분석\n",
        "###pandas로 data 상관계수 분석"
      ]
    },
    {
      "cell_type": "code",
      "metadata": {
        "id": "5HGgJ22DTtyL",
        "outputId": "ef38c8f9-9d82-4e6c-842f-c543dc60452c",
        "colab": {
          "base_uri": "https://localhost:8080/",
          "height": 254
        }
      },
      "source": [
        "growth_table = pd.read_csv(\"https://github.com/seeyourcells/ver_0.0/blob/master/lab/MSC_growth.csv?raw=true\")\n",
        "growth_table.index = [\"Polygonal cell #\", \"Small cell #\", \"Spread cell #\", \"O (others)\", \"Yield\", \"Growth rate (/day)\", \"hrs_to_passage\", \"Polygonal & Small\", \"P&Sm/Sp\", \"ABO-C\", \"P&Sm-Sp\", \"A*B/C\"]\n",
        "gt1 = growth_table.transpose()\n",
        "gt1"
      ],
      "execution_count": 4,
      "outputs": [
        {
          "output_type": "execute_result",
          "data": {
            "text/html": [
              "<div>\n",
              "<style scoped>\n",
              "    .dataframe tbody tr th:only-of-type {\n",
              "        vertical-align: middle;\n",
              "    }\n",
              "\n",
              "    .dataframe tbody tr th {\n",
              "        vertical-align: top;\n",
              "    }\n",
              "\n",
              "    .dataframe thead th {\n",
              "        text-align: right;\n",
              "    }\n",
              "</style>\n",
              "<table border=\"1\" class=\"dataframe\">\n",
              "  <thead>\n",
              "    <tr style=\"text-align: right;\">\n",
              "      <th></th>\n",
              "      <th>Polygonal cell #</th>\n",
              "      <th>Small cell #</th>\n",
              "      <th>Spread cell #</th>\n",
              "      <th>O (others)</th>\n",
              "      <th>Yield</th>\n",
              "      <th>Growth rate (/day)</th>\n",
              "      <th>hrs_to_passage</th>\n",
              "      <th>Polygonal &amp; Small</th>\n",
              "      <th>P&amp;Sm/Sp</th>\n",
              "      <th>ABO-C</th>\n",
              "      <th>P&amp;Sm-Sp</th>\n",
              "      <th>A*B/C</th>\n",
              "    </tr>\n",
              "  </thead>\n",
              "  <tbody>\n",
              "    <tr>\n",
              "      <th>Passage</th>\n",
              "      <td>Polygonal cell #</td>\n",
              "      <td>Small cell #</td>\n",
              "      <td>Spread cell #</td>\n",
              "      <td>O (others)</td>\n",
              "      <td>Yield</td>\n",
              "      <td>Growth rate (/day)</td>\n",
              "      <td>hrs_to_passage</td>\n",
              "      <td>Polygonal &amp; Small</td>\n",
              "      <td>P&amp;Sm/Sp</td>\n",
              "      <td>ABO-C</td>\n",
              "      <td>P&amp;Sm-Sp</td>\n",
              "      <td>A*B/C</td>\n",
              "    </tr>\n",
              "    <tr>\n",
              "      <th>P1</th>\n",
              "      <td>2.1186</td>\n",
              "      <td>0.5564</td>\n",
              "      <td>2.0936</td>\n",
              "      <td>0.6313</td>\n",
              "      <td>37.85</td>\n",
              "      <td>300.712</td>\n",
              "      <td>72.5</td>\n",
              "      <td>2.675</td>\n",
              "      <td>1.2777</td>\n",
              "      <td>3.2127</td>\n",
              "      <td>2.5814</td>\n",
              "      <td>0.563044</td>\n",
              "    </tr>\n",
              "    <tr>\n",
              "      <th>P2</th>\n",
              "      <td>1.2423</td>\n",
              "      <td>0.2484</td>\n",
              "      <td>2.8159</td>\n",
              "      <td>0.1932</td>\n",
              "      <td>19.25</td>\n",
              "      <td>51.3333</td>\n",
              "      <td>216</td>\n",
              "      <td>1.4907</td>\n",
              "      <td>0.529387</td>\n",
              "      <td>0.868</td>\n",
              "      <td>0.6748</td>\n",
              "      <td>0.109587</td>\n",
              "    </tr>\n",
              "    <tr>\n",
              "      <th>P3</th>\n",
              "      <td>0.4223</td>\n",
              "      <td>1.8349</td>\n",
              "      <td>2.097</td>\n",
              "      <td>0.1456</td>\n",
              "      <td>20.25</td>\n",
              "      <td>95.8974</td>\n",
              "      <td>121.63</td>\n",
              "      <td>2.2572</td>\n",
              "      <td>1.07639</td>\n",
              "      <td>2.3058</td>\n",
              "      <td>2.1602</td>\n",
              "      <td>0.369518</td>\n",
              "    </tr>\n",
              "  </tbody>\n",
              "</table>\n",
              "</div>"
            ],
            "text/plain": [
              "         Polygonal cell #  Small cell #  ...  P&Sm-Sp     A*B/C\n",
              "Passage  Polygonal cell #  Small cell #  ...  P&Sm-Sp     A*B/C\n",
              "P1                 2.1186        0.5564  ...   2.5814  0.563044\n",
              "P2                 1.2423        0.2484  ...   0.6748  0.109587\n",
              "P3                 0.4223        1.8349  ...   2.1602  0.369518\n",
              "\n",
              "[4 rows x 12 columns]"
            ]
          },
          "metadata": {
            "tags": []
          },
          "execution_count": 4
        }
      ]
    },
    {
      "cell_type": "code",
      "metadata": {
        "id": "9JHlBTE_TvsD",
        "outputId": "f855b15f-0c4e-4335-ccc6-274c040b6c04",
        "colab": {
          "base_uri": "https://localhost:8080/",
          "height": 191
        }
      },
      "source": [
        "gt1.drop('Passage')"
      ],
      "execution_count": 5,
      "outputs": [
        {
          "output_type": "execute_result",
          "data": {
            "text/html": [
              "<div>\n",
              "<style scoped>\n",
              "    .dataframe tbody tr th:only-of-type {\n",
              "        vertical-align: middle;\n",
              "    }\n",
              "\n",
              "    .dataframe tbody tr th {\n",
              "        vertical-align: top;\n",
              "    }\n",
              "\n",
              "    .dataframe thead th {\n",
              "        text-align: right;\n",
              "    }\n",
              "</style>\n",
              "<table border=\"1\" class=\"dataframe\">\n",
              "  <thead>\n",
              "    <tr style=\"text-align: right;\">\n",
              "      <th></th>\n",
              "      <th>Polygonal cell #</th>\n",
              "      <th>Small cell #</th>\n",
              "      <th>Spread cell #</th>\n",
              "      <th>O (others)</th>\n",
              "      <th>Yield</th>\n",
              "      <th>Growth rate (/day)</th>\n",
              "      <th>hrs_to_passage</th>\n",
              "      <th>Polygonal &amp; Small</th>\n",
              "      <th>P&amp;Sm/Sp</th>\n",
              "      <th>ABO-C</th>\n",
              "      <th>P&amp;Sm-Sp</th>\n",
              "      <th>A*B/C</th>\n",
              "    </tr>\n",
              "  </thead>\n",
              "  <tbody>\n",
              "    <tr>\n",
              "      <th>P1</th>\n",
              "      <td>2.1186</td>\n",
              "      <td>0.5564</td>\n",
              "      <td>2.0936</td>\n",
              "      <td>0.6313</td>\n",
              "      <td>37.85</td>\n",
              "      <td>300.712</td>\n",
              "      <td>72.5</td>\n",
              "      <td>2.675</td>\n",
              "      <td>1.2777</td>\n",
              "      <td>3.2127</td>\n",
              "      <td>2.5814</td>\n",
              "      <td>0.563044</td>\n",
              "    </tr>\n",
              "    <tr>\n",
              "      <th>P2</th>\n",
              "      <td>1.2423</td>\n",
              "      <td>0.2484</td>\n",
              "      <td>2.8159</td>\n",
              "      <td>0.1932</td>\n",
              "      <td>19.25</td>\n",
              "      <td>51.3333</td>\n",
              "      <td>216</td>\n",
              "      <td>1.4907</td>\n",
              "      <td>0.529387</td>\n",
              "      <td>0.868</td>\n",
              "      <td>0.6748</td>\n",
              "      <td>0.109587</td>\n",
              "    </tr>\n",
              "    <tr>\n",
              "      <th>P3</th>\n",
              "      <td>0.4223</td>\n",
              "      <td>1.8349</td>\n",
              "      <td>2.097</td>\n",
              "      <td>0.1456</td>\n",
              "      <td>20.25</td>\n",
              "      <td>95.8974</td>\n",
              "      <td>121.63</td>\n",
              "      <td>2.2572</td>\n",
              "      <td>1.07639</td>\n",
              "      <td>2.3058</td>\n",
              "      <td>2.1602</td>\n",
              "      <td>0.369518</td>\n",
              "    </tr>\n",
              "  </tbody>\n",
              "</table>\n",
              "</div>"
            ],
            "text/plain": [
              "   Polygonal cell # Small cell # Spread cell #  ...   ABO-C P&Sm-Sp     A*B/C\n",
              "P1           2.1186       0.5564        2.0936  ...  3.2127  2.5814  0.563044\n",
              "P2           1.2423       0.2484        2.8159  ...   0.868  0.6748  0.109587\n",
              "P3           0.4223       1.8349         2.097  ...  2.3058  2.1602  0.369518\n",
              "\n",
              "[3 rows x 12 columns]"
            ]
          },
          "metadata": {
            "tags": []
          },
          "execution_count": 5
        }
      ]
    },
    {
      "cell_type": "code",
      "metadata": {
        "id": "QF9Y29qZTzpx",
        "outputId": "39e49877-c836-448d-97c5-b4c47afccc0c",
        "colab": {
          "base_uri": "https://localhost:8080/",
          "height": 354
        }
      },
      "source": [
        "gt1.info()"
      ],
      "execution_count": 6,
      "outputs": [
        {
          "output_type": "stream",
          "text": [
            "<class 'pandas.core.frame.DataFrame'>\n",
            "Index: 4 entries, Passage to P3\n",
            "Data columns (total 12 columns):\n",
            " #   Column              Non-Null Count  Dtype \n",
            "---  ------              --------------  ----- \n",
            " 0   Polygonal cell #    4 non-null      object\n",
            " 1   Small cell #        4 non-null      object\n",
            " 2   Spread cell #       4 non-null      object\n",
            " 3   O (others)          4 non-null      object\n",
            " 4   Yield               4 non-null      object\n",
            " 5   Growth rate (/day)  4 non-null      object\n",
            " 6   hrs_to_passage      4 non-null      object\n",
            " 7   Polygonal & Small   4 non-null      object\n",
            " 8   P&Sm/Sp             4 non-null      object\n",
            " 9   ABO-C               4 non-null      object\n",
            " 10  P&Sm-Sp             4 non-null      object\n",
            " 11  A*B/C               4 non-null      object\n",
            "dtypes: object(12)\n",
            "memory usage: 576.0+ bytes\n"
          ],
          "name": "stdout"
        }
      ]
    },
    {
      "cell_type": "code",
      "metadata": {
        "id": "e3BYNYXeT1u3",
        "outputId": "8e65d328-7f3f-4ddd-ef53-d37bec74cf75",
        "colab": {
          "base_uri": "https://localhost:8080/",
          "height": 31
        }
      },
      "source": [
        "gt1.corr()"
      ],
      "execution_count": 7,
      "outputs": [
        {
          "output_type": "execute_result",
          "data": {
            "text/html": [
              "<div>\n",
              "<style scoped>\n",
              "    .dataframe tbody tr th:only-of-type {\n",
              "        vertical-align: middle;\n",
              "    }\n",
              "\n",
              "    .dataframe tbody tr th {\n",
              "        vertical-align: top;\n",
              "    }\n",
              "\n",
              "    .dataframe thead th {\n",
              "        text-align: right;\n",
              "    }\n",
              "</style>\n",
              "<table border=\"1\" class=\"dataframe\">\n",
              "  <thead>\n",
              "    <tr style=\"text-align: right;\">\n",
              "      <th></th>\n",
              "    </tr>\n",
              "  </thead>\n",
              "  <tbody>\n",
              "  </tbody>\n",
              "</table>\n",
              "</div>"
            ],
            "text/plain": [
              "Empty DataFrame\n",
              "Columns: []\n",
              "Index: []"
            ]
          },
          "metadata": {
            "tags": []
          },
          "execution_count": 7
        }
      ]
    },
    {
      "cell_type": "markdown",
      "metadata": {
        "id": "YwIlvbXqT4S0"
      },
      "source": [
        "Dtype이 Object라서 corr() 함수 작동 안하는듯.. 객체 타입 변환 필요"
      ]
    }
  ]
}